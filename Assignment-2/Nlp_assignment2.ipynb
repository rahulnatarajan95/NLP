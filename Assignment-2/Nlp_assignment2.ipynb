{
  "nbformat": 4,
  "nbformat_minor": 0,
  "metadata": {
    "colab": {
      "name": "Nlp_assignment2.ipynb",
      "provenance": []
    },
    "kernelspec": {
      "name": "python3",
      "display_name": "Python 3"
    },
    "accelerator": "GPU"
  },
  "cells": [
    {
      "cell_type": "code",
      "metadata": {
        "id": "DZwYH4xszvc5",
        "colab_type": "code",
        "outputId": "040e4394-37b6-4413-a41e-86e0ed4e73c1",
        "colab": {
          "base_uri": "https://localhost:8080/",
          "height": 118
        }
      },
      "source": [
        "#import libraries needed\n",
        "\n",
        "#libraries to read data and work with it\n",
        "import pandas as pd\n",
        "import numpy as np\n",
        "\n",
        "#library to plot graph\n",
        "import matplotlib.pyplot as plt\n",
        "\n",
        "#libraries for feature vectors using Bag Of Words(BOW), TFIDF   \n",
        "from sklearn.feature_extraction.text import CountVectorizer, TfidfVectorizer\n",
        "from sklearn.model_selection import train_test_split\n",
        "\n",
        "#library for metrics calculation\n",
        "from sklearn.metrics import f1_score, precision_score, recall_score\n",
        "\n",
        "#library for output class encoding\n",
        "from keras.utils import to_categorical\n",
        "\n",
        "#libraries for CNN model\n",
        "from keras.models import Sequential\n",
        "from keras.layers import Conv1D, Activation, MaxPooling1D, AveragePooling1D, Dropout, Flatten,  Dense\n",
        "from keras import optimizers\n",
        "\n",
        "#libraries for pre-processing\n",
        "import nltk\n",
        "nltk.download('punkt')\n",
        "nltk.download('stopwords')\n",
        "nltk.download('wordnet')\n",
        "from nltk.corpus import movie_reviews\n",
        "from nltk.corpus import stopwords\n",
        "from nltk.tokenize import word_tokenize\n",
        "from nltk.stem import WordNetLemmatizer, PorterStemmer, LancasterStemmer\n"
      ],
      "execution_count": 111,
      "outputs": [
        {
          "output_type": "stream",
          "text": [
            "[nltk_data] Downloading package punkt to /root/nltk_data...\n",
            "[nltk_data]   Package punkt is already up-to-date!\n",
            "[nltk_data] Downloading package stopwords to /root/nltk_data...\n",
            "[nltk_data]   Package stopwords is already up-to-date!\n",
            "[nltk_data] Downloading package wordnet to /root/nltk_data...\n",
            "[nltk_data]   Package wordnet is already up-to-date!\n"
          ],
          "name": "stdout"
        }
      ]
    },
    {
      "cell_type": "code",
      "metadata": {
        "id": "statxUYh9etC",
        "colab_type": "code",
        "outputId": "68faa8ed-f60e-49fd-c8dc-449e40b9d317",
        "colab": {
          "base_uri": "https://localhost:8080/",
          "height": 34
        }
      },
      "source": [
        "#read dataset \n",
        "data = pd.read_csv('https://raw.githubusercontent.com/cacoderquan/Sentiment-Analysis-on-the-Rotten-Tomatoes-movie-review-dataset/master/train.tsv', sep='\\t') \n",
        "data = data.dropna()\n",
        "#print shape of the dataset\n",
        "data.shape"
      ],
      "execution_count": 112,
      "outputs": [
        {
          "output_type": "execute_result",
          "data": {
            "text/plain": [
              "(156060, 4)"
            ]
          },
          "metadata": {
            "tags": []
          },
          "execution_count": 112
        }
      ]
    },
    {
      "cell_type": "code",
      "metadata": {
        "id": "4fQ_wgpU9mqs",
        "colab_type": "code",
        "outputId": "8e1c9931-c238-4bac-f357-8245cebf3209",
        "colab": {
          "base_uri": "https://localhost:8080/",
          "height": 195
        }
      },
      "source": [
        "#display first 5 records in the dataset\n",
        "data.head()"
      ],
      "execution_count": 113,
      "outputs": [
        {
          "output_type": "execute_result",
          "data": {
            "text/html": [
              "<div>\n",
              "<style scoped>\n",
              "    .dataframe tbody tr th:only-of-type {\n",
              "        vertical-align: middle;\n",
              "    }\n",
              "\n",
              "    .dataframe tbody tr th {\n",
              "        vertical-align: top;\n",
              "    }\n",
              "\n",
              "    .dataframe thead th {\n",
              "        text-align: right;\n",
              "    }\n",
              "</style>\n",
              "<table border=\"1\" class=\"dataframe\">\n",
              "  <thead>\n",
              "    <tr style=\"text-align: right;\">\n",
              "      <th></th>\n",
              "      <th>PhraseId</th>\n",
              "      <th>SentenceId</th>\n",
              "      <th>Phrase</th>\n",
              "      <th>Sentiment</th>\n",
              "    </tr>\n",
              "  </thead>\n",
              "  <tbody>\n",
              "    <tr>\n",
              "      <th>0</th>\n",
              "      <td>1</td>\n",
              "      <td>1</td>\n",
              "      <td>A series of escapades demonstrating the adage ...</td>\n",
              "      <td>1</td>\n",
              "    </tr>\n",
              "    <tr>\n",
              "      <th>1</th>\n",
              "      <td>2</td>\n",
              "      <td>1</td>\n",
              "      <td>A series of escapades demonstrating the adage ...</td>\n",
              "      <td>2</td>\n",
              "    </tr>\n",
              "    <tr>\n",
              "      <th>2</th>\n",
              "      <td>3</td>\n",
              "      <td>1</td>\n",
              "      <td>A series</td>\n",
              "      <td>2</td>\n",
              "    </tr>\n",
              "    <tr>\n",
              "      <th>3</th>\n",
              "      <td>4</td>\n",
              "      <td>1</td>\n",
              "      <td>A</td>\n",
              "      <td>2</td>\n",
              "    </tr>\n",
              "    <tr>\n",
              "      <th>4</th>\n",
              "      <td>5</td>\n",
              "      <td>1</td>\n",
              "      <td>series</td>\n",
              "      <td>2</td>\n",
              "    </tr>\n",
              "  </tbody>\n",
              "</table>\n",
              "</div>"
            ],
            "text/plain": [
              "   PhraseId  ...  Sentiment\n",
              "0         1  ...          1\n",
              "1         2  ...          2\n",
              "2         3  ...          2\n",
              "3         4  ...          2\n",
              "4         5  ...          2\n",
              "\n",
              "[5 rows x 4 columns]"
            ]
          },
          "metadata": {
            "tags": []
          },
          "execution_count": 113
        }
      ]
    },
    {
      "cell_type": "code",
      "metadata": {
        "id": "FYySuOzd9uX-",
        "colab_type": "code",
        "outputId": "aeff11aa-37a5-4c02-f527-2912173f4c5a",
        "colab": {
          "base_uri": "https://localhost:8080/",
          "height": 221
        }
      },
      "source": [
        "#Display Phrase count based on sentiment\n",
        "fig = plt.figure(figsize=(4,3))\n",
        "data.groupby('Sentiment').Phrase.count().plot.bar(ylim=0)\n",
        "plt.show()"
      ],
      "execution_count": 114,
      "outputs": [
        {
          "output_type": "display_data",
          "data": {
            "image/png": "[encoded data removed]",
            "text/plain": [
              "<Figure size 288x216 with 1 Axes>"
            ]
          },
          "metadata": {
            "tags": []
          }
        }
      ]
    },
    {
      "cell_type": "code",
      "metadata": {
        "id": "g9uc7fDL9_6b",
        "colab_type": "code",
        "colab": {}
      },
      "source": [
        "#tokenization\n",
        "documents = []\n",
        "for i in range(data.shape[0]):\n",
        "  tmpWords = word_tokenize(data['Phrase'][i])\n",
        "  documents.append((tmpWords, data['Sentiment'][i]))"
      ],
      "execution_count": 0,
      "outputs": []
    },
    {
      "cell_type": "code",
      "metadata": {
        "id": "4wP0nzdZ-cP4",
        "colab_type": "code",
        "outputId": "72130ee6-cb58-49b7-8f52-87da48dce381",
        "colab": {
          "base_uri": "https://localhost:8080/",
          "height": 34
        }
      },
      "source": [
        "#data pre-processing\n",
        "porter = PorterStemmer()\n",
        "lancaster=LancasterStemmer()\n",
        "wordnet_lemmatizer = WordNetLemmatizer()\n",
        "stopwords_en = stopwords.words(\"english\")\n",
        "punctuations=\"?:!.,;'\\\"-()\"\n",
        "\n",
        "#parameters to adjust to see the impact on outcome\n",
        "remove_stopwords = True\n",
        "useStemming = False\n",
        "useLemma = True\n",
        "removePuncs = True\n",
        "\n",
        "for l in range(len(documents)):\n",
        "  label = documents[l][1]\n",
        "  tmpReview = []\n",
        "  for w in documents[l][0]:\n",
        "    newWord = w\n",
        "    if remove_stopwords and (w in stopwords_en):\n",
        "      continue\n",
        "    if removePuncs and (w in punctuations):\n",
        "      continue\n",
        "    if useStemming:\n",
        "      #newWord = porter.stem(newWord)\n",
        "      newWord = lancaster.stem(newWord)\n",
        "    if useLemma:\n",
        "      newWord = wordnet_lemmatizer.lemmatize(newWord)\n",
        "    tmpReview.append(newWord)\n",
        "  documents[l] = (' '.join(tmpReview), label)\n",
        "print(documents[2])"
      ],
      "execution_count": 116,
      "outputs": [
        {
          "output_type": "stream",
          "text": [
            "('A series', 2)\n"
          ],
          "name": "stdout"
        }
      ]
    },
    {
      "cell_type": "code",
      "metadata": {
        "id": "nGqd_lRb-0CR",
        "colab_type": "code",
        "colab": {}
      },
      "source": [
        "all_data = pd.DataFrame(documents, columns=['Phrase', 'Sentiment'])\n",
        "\n",
        "#Data split int train and test data\n",
        "X_train, X_test, Y_train, Y_test = train_test_split(all_data ['Phrase'], all_data ['Sentiment'], test_size=0.3, random_state=2003)"
      ],
      "execution_count": 0,
      "outputs": []
    },
    {
      "cell_type": "code",
      "metadata": {
        "id": "u_L3vEgh-lGk",
        "colab_type": "code",
        "outputId": "9108a968-959a-474c-cca7-b602237ba87b",
        "colab": {
          "base_uri": "https://localhost:8080/",
          "height": 118
        }
      },
      "source": [
        "#Bag Of Words(BOW) vectorizer \n",
        "BOW_vectorizer = CountVectorizer(max_features = 2000)\n",
        "#BOW_vectorizer = TfidfVectorizer(max_features = 2000)\n",
        "BOW_vectorizer.fit(X_train)"
      ],
      "execution_count": 118,
      "outputs": [
        {
          "output_type": "execute_result",
          "data": {
            "text/plain": [
              "CountVectorizer(analyzer='word', binary=False, decode_error='strict',\n",
              "                dtype=<class 'numpy.int64'>, encoding='utf-8', input='content',\n",
              "                lowercase=True, max_df=1.0, max_features=2000, min_df=1,\n",
              "                ngram_range=(1, 1), preprocessor=None, stop_words=None,\n",
              "                strip_accents=None, token_pattern='(?u)\\\\b\\\\w\\\\w+\\\\b',\n",
              "                tokenizer=None, vocabulary=None)"
            ]
          },
          "metadata": {
            "tags": []
          },
          "execution_count": 118
        }
      ]
    },
    {
      "cell_type": "code",
      "metadata": {
        "id": "BJfPIx84_a2n",
        "colab_type": "code",
        "colab": {}
      },
      "source": [
        "#Feature vector transformation\n",
        "X_train_BOW = BOW_vectorizer.transform(X_train)\n",
        "X_test_BOW = BOW_vectorizer.transform(X_test)"
      ],
      "execution_count": 0,
      "outputs": []
    },
    {
      "cell_type": "code",
      "metadata": {
        "id": "ZV_VFfoJ_y_v",
        "colab_type": "code",
        "colab": {}
      },
      "source": [
        "#convert to array\n",
        "X_train_BOW = X_train_BOW.toarray()\n",
        "X_test_BOW = X_test_BOW.toarray()\n",
        "\n",
        "#for metrics calculation\n",
        "Y_test_metrics = Y_test\n",
        "\n",
        "#one hot encoding\n",
        "Y_train = to_categorical(Y_train)\n",
        "Y_test = to_categorical(Y_test)"
      ],
      "execution_count": 0,
      "outputs": []
    },
    {
      "cell_type": "code",
      "metadata": {
        "id": "_MurjbfnDByu",
        "colab_type": "code",
        "outputId": "a4e9f6d9-fffa-487c-b131-60fd0527c368",
        "colab": {
          "base_uri": "https://localhost:8080/",
          "height": 50
        }
      },
      "source": [
        "#reshape 2D array to 3D array so that it can be fed into the model\n",
        "X_train_BOW=X_train_BOW.reshape(X_train_BOW.shape[0],X_train_BOW.shape[1],1)\n",
        "print(X_train_BOW.shape)\n",
        "\n",
        "X_test_BOW=X_test_BOW.reshape(X_test_BOW.shape[0],X_test_BOW.shape[1],1) \n",
        "print(X_test_BOW.shape)"
      ],
      "execution_count": 121,
      "outputs": [
        {
          "output_type": "stream",
          "text": [
            "(109242, 2000, 1)\n",
            "(46818, 2000, 1)\n"
          ],
          "name": "stdout"
        }
      ]
    },
    {
      "cell_type": "code",
      "metadata": {
        "id": "UviIA9lXF3Tr",
        "colab_type": "code",
        "colab": {}
      },
      "source": [
        "#define cnn model\n",
        "def cnn_model(input, output_class):\n",
        "  #create model\n",
        "  model = Sequential()\n",
        "  model.add(Conv1D(filters = 128, kernel_size=1, activation='relu', input_shape=(input.shape[1],1)))\n",
        "  model.add(MaxPooling1D(pool_size =2))\n",
        "  model.add(Conv1D(filters = 256, kernel_size=1, activation='relu'))\n",
        "  model.add(MaxPooling1D(pool_size =2))\n",
        "  model.add(Flatten())\n",
        "  model.add(Dropout(.25))\n",
        "  model.add(Dense(128, activation='relu'))\n",
        "  model.add(Dense(output_class, activation='softmax'))\n",
        "  return model"
      ],
      "execution_count": 0,
      "outputs": []
    },
    {
      "cell_type": "code",
      "metadata": {
        "id": "fXAehZTNHFGD",
        "colab_type": "code",
        "colab": {}
      },
      "source": [
        "#set learning rate, batch size, number of epochs and number of output labels\n",
        "lr = 1e-5\n",
        "batch_size = 128\n",
        "epochs = 10\n",
        "output_class = 5\n",
        "\n",
        "model = cnn_model(X_train_BOW, output_class)\n",
        "model.compile(optimizer='adam', loss='categorical_crossentropy', metrics=['accuracy'])"
      ],
      "execution_count": 0,
      "outputs": []
    },
    {
      "cell_type": "code",
      "metadata": {
        "id": "psdxTs0BJ-vf",
        "colab_type": "code",
        "outputId": "2019fcaa-7250-4050-f970-9acad64e1778",
        "colab": {
          "base_uri": "https://localhost:8080/",
          "height": 353
        }
      },
      "source": [
        "#Train the Model and save it\n",
        "model.fit(X_train_BOW, Y_train, epochs = epochs, batch_size = batch_size)\n",
        "\n",
        "model.save(\"1094107_1dconv_reg.h5\")"
      ],
      "execution_count": 124,
      "outputs": [
        {
          "output_type": "stream",
          "text": [
            "Epoch 1/10\n",
            "109242/109242 [==============================] - 84s 769us/step - loss: 1.1412 - acc: 0.5492\n",
            "Epoch 2/10\n",
            "109242/109242 [==============================] - 83s 756us/step - loss: 1.0774 - acc: 0.5773\n",
            "Epoch 3/10\n",
            "109242/109242 [==============================] - 83s 756us/step - loss: 1.0168 - acc: 0.6036\n",
            "Epoch 4/10\n",
            "109242/109242 [==============================] - 82s 755us/step - loss: 0.9645 - acc: 0.6259\n",
            "Epoch 5/10\n",
            "109242/109242 [==============================] - 83s 756us/step - loss: 0.9279 - acc: 0.6401\n",
            "Epoch 6/10\n",
            "109242/109242 [==============================] - 83s 756us/step - loss: 0.8999 - acc: 0.6516\n",
            "Epoch 7/10\n",
            "109242/109242 [==============================] - 83s 757us/step - loss: 0.8796 - acc: 0.6602\n",
            "Epoch 8/10\n",
            "109242/109242 [==============================] - 83s 756us/step - loss: 0.8611 - acc: 0.6676\n",
            "Epoch 9/10\n",
            "109242/109242 [==============================] - 83s 757us/step - loss: 0.8477 - acc: 0.6733\n",
            "Epoch 10/10\n",
            "109242/109242 [==============================] - 83s 757us/step - loss: 0.8350 - acc: 0.6773\n"
          ],
          "name": "stdout"
        }
      ]
    },
    {
      "cell_type": "code",
      "metadata": {
        "id": "QC1Z_TnH5a4V",
        "colab_type": "code",
        "outputId": "6dd9ffcf-c95e-41a0-cd7d-b8427a9f2160",
        "colab": {
          "base_uri": "https://localhost:8080/",
          "height": 420
        }
      },
      "source": [
        "#load the trained model\n",
        "from keras.models import load_model\n",
        "model = load_model('1094107_1dconv_reg.h5')\n",
        "model.summary()"
      ],
      "execution_count": 125,
      "outputs": [
        {
          "output_type": "stream",
          "text": [
            "Model: \"sequential_11\"\n",
            "_________________________________________________________________\n",
            "Layer (type)                 Output Shape              Param #   \n",
            "=================================================================\n",
            "conv1d_21 (Conv1D)           (None, 2000, 128)         256       \n",
            "_________________________________________________________________\n",
            "max_pooling1d_21 (MaxPooling (None, 1000, 128)         0         \n",
            "_________________________________________________________________\n",
            "conv1d_22 (Conv1D)           (None, 1000, 256)         33024     \n",
            "_________________________________________________________________\n",
            "max_pooling1d_22 (MaxPooling (None, 500, 256)          0         \n",
            "_________________________________________________________________\n",
            "flatten_11 (Flatten)         (None, 128000)            0         \n",
            "_________________________________________________________________\n",
            "dropout_11 (Dropout)         (None, 128000)            0         \n",
            "_________________________________________________________________\n",
            "dense_21 (Dense)             (None, 128)               16384128  \n",
            "_________________________________________________________________\n",
            "dense_22 (Dense)             (None, 5)                 645       \n",
            "=================================================================\n",
            "Total params: 16,418,053\n",
            "Trainable params: 16,418,053\n",
            "Non-trainable params: 0\n",
            "_________________________________________________________________\n"
          ],
          "name": "stdout"
        }
      ]
    },
    {
      "cell_type": "code",
      "metadata": {
        "id": "KQlOOR3UO1vo",
        "colab_type": "code",
        "outputId": "c68efeb4-2943-4881-a3b9-72a9e018708f",
        "colab": {
          "base_uri": "https://localhost:8080/",
          "height": 84
        }
      },
      "source": [
        "#Calculate loss and accuracy\n",
        "loss, accuracy = model.evaluate(X_test_BOW, Y_test)\n",
        "print(\"Model Performace:\")\n",
        "print(\"The model's Accuracy is: \" + str(accuracy))\n",
        "print(\"The model's Loss is: \" + str(loss))"
      ],
      "execution_count": 126,
      "outputs": [
        {
          "output_type": "stream",
          "text": [
            "46818/46818 [==============================] - 14s 299us/step\n",
            "Model Performace:\n",
            "The model's Accuracy is: 0.6023965141612201\n",
            "The model's Loss is: 1.080283404252139\n"
          ],
          "name": "stdout"
        }
      ]
    },
    {
      "cell_type": "code",
      "metadata": {
        "id": "wQzm3DNI8_S4",
        "colab_type": "code",
        "outputId": "fe3d067e-446a-443b-c4a6-c2ab06e67da1",
        "colab": {
          "base_uri": "https://localhost:8080/",
          "height": 134
        }
      },
      "source": [
        "y_pred = model.predict(X_test_BOW, batch_size=128, verbose=1)\n",
        "Y_pred = np.argmax(y_pred, axis=1)\n",
        "\n",
        "#expected output labels for metrics calculation \n",
        "Y_test = np.array(Y_test_metrics)\n",
        "\n",
        "#f1, precision, and recall score\n",
        "precision = precision_score(Y_test, Y_pred , average=\"macro\")\n",
        "recall = recall_score(Y_test, Y_pred , average=\"macro\")\n",
        "f1_score_val = f1_score(Y_test, Y_pred , average=\"macro\")\n",
        "\n",
        "print(\"Model Performace:\")\n",
        "print(\"The model's Accuracy is: \" + str(accuracy*100))\n",
        "print(\"The model's Loss is: \" + str(loss))\n",
        "print(\"The model's Precision is: \" + str(precision))\n",
        "print(\"The model's Recall is: \" + str(recall))\n",
        "print(\"The model's f1-score is: \" + str(f1_score_val))\n"
      ],
      "execution_count": 127,
      "outputs": [
        {
          "output_type": "stream",
          "text": [
            "46818/46818 [==============================] - 12s 254us/step\n",
            "Model Performace:\n",
            "The model's Accuracy is: 60.23965141612201\n",
            "The model's Loss is: 1.080283404252139\n",
            "The model's Precision is: 0.5178073603377571\n",
            "The model's Recall is: 0.4283853733699693\n",
            "The model's f1-score is: 0.4571801073332333\n"
          ],
          "name": "stdout"
        }
      ]
    }
  ]
}