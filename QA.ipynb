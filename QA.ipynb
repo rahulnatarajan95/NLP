{
  "nbformat": 4,
  "nbformat_minor": 0,
  "metadata": {
    "colab": {
      "name": "QA.ipynb",
      "provenance": [],
      "collapsed_sections": []
    },
    "kernelspec": {
      "name": "python3",
      "display_name": "Python 3"
    },
    "accelerator": "GPU"
  },
  "cells": [
    {
      "cell_type": "code",
      "metadata": {
        "id": "zofkchracZyq",
        "colab_type": "code",
        "colab": {
          "base_uri": "https://localhost:8080/",
          "height": 154
        },
        "outputId": "a51f3f2d-087b-4484-829c-d9a3f0ac4d70"
      },
      "source": [
        "#install wikipedia\n",
        "!pip install wikipedia"
      ],
      "execution_count": 54,
      "outputs": [
        {
          "output_type": "stream",
          "text": [
            "Requirement already satisfied: wikipedia in /usr/local/lib/python3.6/dist-packages (1.4.0)\n",
            "Requirement already satisfied: beautifulsoup4 in /usr/local/lib/python3.6/dist-packages (from wikipedia) (4.6.3)\n",
            "Requirement already satisfied: requests<3.0.0,>=2.0.0 in /usr/local/lib/python3.6/dist-packages (from wikipedia) (2.21.0)\n",
            "Requirement already satisfied: certifi>=2017.4.17 in /usr/local/lib/python3.6/dist-packages (from requests<3.0.0,>=2.0.0->wikipedia) (2019.11.28)\n",
            "Requirement already satisfied: chardet<3.1.0,>=3.0.2 in /usr/local/lib/python3.6/dist-packages (from requests<3.0.0,>=2.0.0->wikipedia) (3.0.4)\n",
            "Requirement already satisfied: urllib3<1.25,>=1.21.1 in /usr/local/lib/python3.6/dist-packages (from requests<3.0.0,>=2.0.0->wikipedia) (1.24.3)\n",
            "Requirement already satisfied: idna<2.9,>=2.5 in /usr/local/lib/python3.6/dist-packages (from requests<3.0.0,>=2.0.0->wikipedia) (2.8)\n"
          ],
          "name": "stdout"
        }
      ]
    },
    {
      "cell_type": "code",
      "metadata": {
        "id": "nFL44JqBbQuV",
        "colab_type": "code",
        "colab": {
          "base_uri": "https://localhost:8080/",
          "height": 321
        },
        "outputId": "51a6b358-20bd-422b-c8ee-054022e15ca1"
      },
      "source": [
        "#install google search\n",
        "!pip install Google-Search-API"
      ],
      "execution_count": 55,
      "outputs": [
        {
          "output_type": "stream",
          "text": [
            "Requirement already satisfied: Google-Search-API in /usr/local/lib/python3.6/dist-packages (1.1.14)\n",
            "Requirement already satisfied: vcrpy in /usr/local/lib/python3.6/dist-packages (from Google-Search-API) (4.0.2)\n",
            "Requirement already satisfied: fake-useragent in /usr/local/lib/python3.6/dist-packages (from Google-Search-API) (0.1.11)\n",
            "Requirement already satisfied: selenium<3.0.0,>=2.44.0 in /usr/local/lib/python3.6/dist-packages (from Google-Search-API) (2.53.6)\n",
            "Requirement already satisfied: beautifulsoup4 in /usr/local/lib/python3.6/dist-packages (from Google-Search-API) (4.6.3)\n",
            "Requirement already satisfied: future in /usr/local/lib/python3.6/dist-packages (from Google-Search-API) (0.16.0)\n",
            "Requirement already satisfied: requests in /usr/local/lib/python3.6/dist-packages (from Google-Search-API) (2.21.0)\n",
            "Requirement already satisfied: unidecode in /usr/local/lib/python3.6/dist-packages (from Google-Search-API) (1.1.1)\n",
            "Requirement already satisfied: PyYAML in /usr/local/lib/python3.6/dist-packages (from vcrpy->Google-Search-API) (3.13)\n",
            "Requirement already satisfied: six>=1.5 in /usr/local/lib/python3.6/dist-packages (from vcrpy->Google-Search-API) (1.12.0)\n",
            "Requirement already satisfied: wrapt in /usr/local/lib/python3.6/dist-packages (from vcrpy->Google-Search-API) (1.12.1)\n",
            "Requirement already satisfied: yarl; python_version >= \"3.6\" in /usr/local/lib/python3.6/dist-packages (from vcrpy->Google-Search-API) (1.4.2)\n",
            "Requirement already satisfied: urllib3<1.25,>=1.21.1 in /usr/local/lib/python3.6/dist-packages (from requests->Google-Search-API) (1.24.3)\n",
            "Requirement already satisfied: certifi>=2017.4.17 in /usr/local/lib/python3.6/dist-packages (from requests->Google-Search-API) (2019.11.28)\n",
            "Requirement already satisfied: idna<2.9,>=2.5 in /usr/local/lib/python3.6/dist-packages (from requests->Google-Search-API) (2.8)\n",
            "Requirement already satisfied: chardet<3.1.0,>=3.0.2 in /usr/local/lib/python3.6/dist-packages (from requests->Google-Search-API) (3.0.4)\n",
            "Requirement already satisfied: multidict>=4.0 in /usr/local/lib/python3.6/dist-packages (from yarl; python_version >= \"3.6\"->vcrpy->Google-Search-API) (4.7.5)\n"
          ],
          "name": "stdout"
        }
      ]
    },
    {
      "cell_type": "code",
      "metadata": {
        "id": "lcRCUSKHsML8",
        "colab_type": "code",
        "colab": {
          "base_uri": "https://localhost:8080/",
          "height": 217
        },
        "outputId": "f447a346-6d7b-4de0-cb12-acd1ce3db2c0"
      },
      "source": [
        "#import libraries\n",
        "import unicodedata\n",
        "import nltk\n",
        "from nltk import word_tokenize, pos_tag, ne_chunk, conlltags2tree, tree2conlltags\n",
        "from google import google\n",
        "import wikipedia\n",
        "import collections\n",
        "\n",
        "nltk.download('punkt')\n",
        "nltk.download('averaged_perceptron_tagger')\n",
        "nltk.download('maxent_ne_chunker')\n",
        "nltk.download('words')"
      ],
      "execution_count": 56,
      "outputs": [
        {
          "output_type": "stream",
          "text": [
            "[nltk_data] Downloading package punkt to /root/nltk_data...\n",
            "[nltk_data]   Package punkt is already up-to-date!\n",
            "[nltk_data] Downloading package averaged_perceptron_tagger to\n",
            "[nltk_data]     /root/nltk_data...\n",
            "[nltk_data]   Package averaged_perceptron_tagger is already up-to-\n",
            "[nltk_data]       date!\n",
            "[nltk_data] Downloading package maxent_ne_chunker to\n",
            "[nltk_data]     /root/nltk_data...\n",
            "[nltk_data]   Package maxent_ne_chunker is already up-to-date!\n",
            "[nltk_data] Downloading package words to /root/nltk_data...\n",
            "[nltk_data]   Package words is already up-to-date!\n"
          ],
          "name": "stdout"
        },
        {
          "output_type": "execute_result",
          "data": {
            "text/plain": [
              "True"
            ]
          },
          "metadata": {
            "tags": []
          },
          "execution_count": 56
        }
      ]
    },
    {
      "cell_type": "code",
      "metadata": {
        "id": "AXXGOXGDsakn",
        "colab_type": "code",
        "colab": {}
      },
      "source": [
        "# Determine the type of question whether it is location, date, person or definiton\n",
        "def classify_question(question):\n",
        "  q = question.lower().split()\n",
        "  if q[0] == 'where':\n",
        "    questionType = 'Location'\n",
        "  elif 'year'  in question:\n",
        "    questionType = 'Date'\n",
        "  elif 'country' in question:\n",
        "    questionType = 'Country'\n",
        "  elif q[0] == 'who':\n",
        "    questionType = 'Person'\n",
        "  elif q[0] == 'what':\n",
        "    questionType = 'Definition'\n",
        "  else:\n",
        "    questionType = 'None'\n",
        "  return questionType"
      ],
      "execution_count": 0,
      "outputs": []
    },
    {
      "cell_type": "code",
      "metadata": {
        "id": "kjgRcdpzuxel",
        "colab_type": "code",
        "colab": {}
      },
      "source": [
        "#google search\n",
        "def google_search(question):\n",
        "  first_page = google.search(question,1)\n",
        "  #print first_page\n",
        "  top_three_result = []\n",
        "  i = 0\n",
        "  while i<5:\n",
        "    top_three_result.append(first_page[i].description)\n",
        "    i+=1\n",
        "\n",
        "  first_search = ''.join(top_three_result)\n",
        "  #print first_search\n",
        "\n",
        "  ne_tree = (ne_chunk(pos_tag(word_tokenize(first_search))))\n",
        "\n",
        "  iob_tagged = tree2conlltags(ne_tree)\n",
        "\n",
        "  ss = [tuple(map(str,eachTuple)) for eachTuple in iob_tagged]\n",
        "  question_type = classify_question(question)\n",
        "  print('question_type: ', question_type)\n",
        "  if question_type == 'None':\n",
        "      ans = \"Oops! I don't know.\"\n",
        "  else:\n",
        "      google_answer = []\n",
        "      if question_type == 'Person':\n",
        "          for i in range(len(ss)):\n",
        "              if ss[i][2] == 'B-PERSON'or ss[i][2] == 'I-PERSON':\n",
        "                  google_answer.append(ss[i][0])\n",
        "      elif question_type == 'Country':\n",
        "          print('country identified')\n",
        "          for i in range(len(ss)):\n",
        "              if ss[i][2] == 'B-GPE'or ss[i][2] == 'I-GPE':\n",
        "                  google_answer.append(ss[i][0])\n",
        "      elif question_type == 'Location':\n",
        "          for i in range(len(ss)):\n",
        "              if ss[i][2] == 'B-LOCATION'or ss[i][2] == 'I-LOCATION':\n",
        "                  google_answer.append(ss[i][0])\n",
        "      elif question_type == 'Date':\n",
        "          for i in range(len(ss)):\n",
        "              if ss[i][2] == 'B-DATE'or ss[i][2] == 'I-DATE':\n",
        "                  google_answer.append(ss[i][0])\n",
        "      print('google: ',google_answer)\n",
        "      if not google_answer:\n",
        "          ans = \"Oops, I don't know! \"\n",
        "      else:\n",
        "          print('inside else')\n",
        "          counts = collections.Counter(google_answer)\n",
        "          print('counts: ',counts)\n",
        "          t = counts.most_common(4)\n",
        "          candidate_answer =  [ seq[0] for seq in t ]\n",
        "          print(candidate_answer)\n",
        "          for i in range(len(candidate_answer)):\n",
        "              candidate_answer[i] = 'Candidate Answer '+ str(i+1)+' '+ candidate_answer[i]\n",
        "          candidate_answer = '\\n'.join(candidate_answer)\n",
        "          ans = candidate_answer\n",
        "  return ans\n"
      ],
      "execution_count": 0,
      "outputs": []
    },
    {
      "cell_type": "code",
      "metadata": {
        "id": "4FqiWnN1uqYW",
        "colab_type": "code",
        "colab": {}
      },
      "source": [
        "#wikipedia search\n",
        "def wiki_search(question):\n",
        "  l = question.split(' ')\n",
        "  if len(l) > 2:\n",
        "    ques = \" \".join(l[2:])\n",
        "  try:\n",
        "    print('inside wiki search')\n",
        "    ans = (wikipedia.summary(question, sentences=1))\n",
        "    link = wikipedia.page(ques)\n",
        "    ans = ans + '\\n For more information: '+link.url\n",
        "  except:\n",
        "    print('wiki_search_failed_google')\n",
        "    google_search(question)\n",
        "  return ans\n"
      ],
      "execution_count": 0,
      "outputs": []
    },
    {
      "cell_type": "code",
      "metadata": {
        "id": "_B0B5kG_vgKF",
        "colab_type": "code",
        "colab": {}
      },
      "source": [
        "def answer_question(question):\n",
        "  q_type = classify_question(question)\n",
        "  print(q_type)\n",
        "  if q_type == 'Definition' or q_type == 'Location':\n",
        "    print('except-wiki')\n",
        "    ans = wiki_search(question)\n",
        "  #if len(question.split())<=5:\n",
        "  #    print 'none-wiki'\n",
        "  #    ans = wiki_search(question)\n",
        "  else:\n",
        "    ans = google_search(question)\n",
        "    print('google answ: ',ans)\n",
        "  return ans\n"
      ],
      "execution_count": 0,
      "outputs": []
    },
    {
      "cell_type": "code",
      "metadata": {
        "id": "QyYrHYUyb7Pk",
        "colab_type": "code",
        "colab": {
          "base_uri": "https://localhost:8080/",
          "height": 251
        },
        "outputId": "ef185165-d2aa-449a-945d-9bb2e8f0cc28"
      },
      "source": [
        "print(answer_question('Who is the president of United States?'))\n",
        "# print(answer_question('Who is the president of Iran?'))\n",
        "#print(answer_question('Where is Tehran?'))\n",
        "#print(answer_question('What is the name of Canada\\'s capital city?'))\n",
        "#print(answer_question('Who directed Gone with the wind?'))"
      ],
      "execution_count": 61,
      "outputs": [
        {
          "output_type": "stream",
          "text": [
            "Person\n",
            "question_type:  Person\n",
            "google:  ['Donald', 'Donald', 'Trump', 'Social', 'Donald', 'J.', 'Trump', 'Hold', 'Office']\n",
            "inside else\n",
            "counts:  Counter({'Donald': 3, 'Trump': 2, 'Social': 1, 'J.': 1, 'Hold': 1, 'Office': 1})\n",
            "['Donald', 'Trump', 'Social', 'J.']\n",
            "google answ:  Candidate Answer 1 Donald\n",
            "Candidate Answer 2 Trump\n",
            "Candidate Answer 3 Social\n",
            "Candidate Answer 4 J.\n",
            "Candidate Answer 1 Donald\n",
            "Candidate Answer 2 Trump\n",
            "Candidate Answer 3 Social\n",
            "Candidate Answer 4 J.\n"
          ],
          "name": "stdout"
        }
      ]
    }
  ]
}